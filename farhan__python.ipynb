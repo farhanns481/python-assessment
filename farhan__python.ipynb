{
  "nbformat": 4,
  "nbformat_minor": 0,
  "metadata": {
    "colab": {
      "provenance": [],
      "authorship_tag": "ABX9TyOe960l11XIGamUfvvdsccp",
      "include_colab_link": true
    },
    "kernelspec": {
      "name": "python3",
      "display_name": "Python 3"
    },
    "language_info": {
      "name": "python"
    }
  },
  "cells": [
    {
      "cell_type": "markdown",
      "metadata": {
        "id": "view-in-github",
        "colab_type": "text"
      },
      "source": [
        "<a href=\"https://colab.research.google.com/github/farhanns481/python-assessment/blob/main/farhan__python.ipynb\" target=\"_parent\"><img src=\"https://colab.research.google.com/assets/colab-badge.svg\" alt=\"Open In Colab\"/></a>"
      ]
    },
    {
      "cell_type": "markdown",
      "source": [
        "1. Grocery Store Billing"
      ],
      "metadata": {
        "id": "VfK-Pal6yKlI"
      }
    },
    {
      "cell_type": "code",
      "execution_count": null,
      "metadata": {
        "colab": {
          "base_uri": "https://localhost:8080/"
        },
        "id": "QVd2ApjmxLVX",
        "outputId": "57a11b6a-9e6b-47d7-bd1d-634228c80af9"
      },
      "outputs": [
        {
          "output_type": "stream",
          "name": "stdout",
          "text": [
            "Enter item name (or type 'done' to finish): tomato\n",
            "Enter price of 'tomato': ₹35\n",
            "Enter item name (or type 'done' to finish): onion\n",
            "Enter price of 'onion': ₹55\n",
            "Enter item name (or type 'done' to finish): cabbage\n",
            "Enter price of 'cabbage': ₹43\n",
            "Enter item name (or type 'done' to finish): betroot\n",
            "Enter price of 'betroot': ₹44\n",
            "Enter item name (or type 'done' to finish): done\n",
            "\n",
            "Total before discount: ₹177.00\n",
            "Final bill amount: ₹177.00\n"
          ]
        }
      ],
      "source": [
        "def grocery_store():\n",
        "\n",
        "    total = 0.0\n",
        "    while True:\n",
        "        item = input(\"Enter item name (or type 'done' to finish): \")\n",
        "        if item.lower() == \"done\":\n",
        "            break\n",
        "        try:\n",
        "            price = float(input(f\"Enter price of '{item}': ₹\"))\n",
        "            total += price\n",
        "        except ValueError:\n",
        "            print(\"Invalid price. Please enter a number.\")\n",
        "\n",
        "    print(f\"\\nTotal before discount: ₹{total:.2f}\")\n",
        "\n",
        "    if total > 500:\n",
        "        discount = total * 0.10\n",
        "        total -= discount\n",
        "        print(f\"Discount applied: ₹{discount:.2f}\")\n",
        "\n",
        "    print(f\"Final bill amount: ₹{total:.2f}\")\n",
        "\n",
        "grocery_store()"
      ]
    },
    {
      "cell_type": "markdown",
      "source": [
        "2. Exam Result Calculator"
      ],
      "metadata": {
        "id": "4QPs7QTpyV5k"
      }
    },
    {
      "cell_type": "code",
      "source": [
        "def exam_result():\n",
        "    marks = []\n",
        "    for i in range(5):\n",
        "        mark = float(input(f\"Enter marks for subject {i+1}: \"))\n",
        "        marks.append(mark)\n",
        "    percentage = sum(marks) / 5\n",
        "    print(f\"Percentage: {percentage:.2f}%\")\n",
        "    if percentage >= 90:\n",
        "        grade = 'A'\n",
        "    elif percentage >= 75:\n",
        "        grade = 'B'\n",
        "    elif percentage >= 50:\n",
        "        grade = 'C'\n",
        "    else:\n",
        "        grade = 'Fail'\n",
        "    print(\"Grade:\", grade)\n",
        "exam_result()"
      ],
      "metadata": {
        "colab": {
          "base_uri": "https://localhost:8080/"
        },
        "id": "9lpKEmqAyWZb",
        "outputId": "3386da5d-b222-4edb-ec5b-4b204ef2d5ae"
      },
      "execution_count": null,
      "outputs": [
        {
          "output_type": "stream",
          "name": "stdout",
          "text": [
            "Enter marks for subject 1: 35\n",
            "Enter marks for subject 2: 55\n",
            "Enter marks for subject 3: 67\n",
            "Enter marks for subject 4: 78\n",
            "Enter marks for subject 5: 80\n",
            "Percentage: 63.00%\n",
            "Grade: C\n"
          ]
        }
      ]
    },
    {
      "cell_type": "markdown",
      "source": [
        "3. ATM Simulation\n"
      ],
      "metadata": {
        "id": "0TjI-IMvzJI_"
      }
    },
    {
      "cell_type": "code",
      "source": [
        "def atm():\n",
        "    balance = 1000\n",
        "    while True:\n",
        "        print(\"\\n1. Deposit\\n2. Withdraw\\n3. Check Balance\\n4. Exit\")\n",
        "        choice = input(\"Choose option: \")\n",
        "        if choice == '1':\n",
        "            amount = float(input(\"Enter amount to deposit: ₹\"))\n",
        "            balance += amount\n",
        "        elif choice == '2':\n",
        "            amount = float(input(\"Enter amount to withdraw: ₹\"))\n",
        "            if amount <= balance:\n",
        "                balance -= amount\n",
        "            else:\n",
        "                print(\"Insufficient balance.\")\n",
        "        elif choice == '3':\n",
        "            print(f\"Balance: ₹{balance:.2f}\")\n",
        "        elif choice == '4':\n",
        "            break\n",
        "        else:\n",
        "            print(\"Invalid choice.\")\n",
        "atm()"
      ],
      "metadata": {
        "colab": {
          "base_uri": "https://localhost:8080/"
        },
        "id": "_f0HR0efzKbk",
        "outputId": "6a91b8b3-d134-4eed-e3e3-f84faa09e915"
      },
      "execution_count": null,
      "outputs": [
        {
          "name": "stdout",
          "output_type": "stream",
          "text": [
            "\n",
            "1. Deposit\n",
            "2. Withdraw\n",
            "3. Check Balance\n",
            "4. Exit\n",
            "Choose option: 1\n",
            "Enter amount to deposit: ₹1000\n",
            "\n",
            "1. Deposit\n",
            "2. Withdraw\n",
            "3. Check Balance\n",
            "4. Exit\n",
            "Choose option: 2\n",
            "Enter amount to withdraw: ₹500\n",
            "\n",
            "1. Deposit\n",
            "2. Withdraw\n",
            "3. Check Balance\n",
            "4. Exit\n",
            "Choose option: 3\n",
            "Balance: ₹1500.00\n",
            "\n",
            "1. Deposit\n",
            "2. Withdraw\n",
            "3. Check Balance\n",
            "4. Exit\n",
            "Choose option: 2\n",
            "Enter amount to withdraw: ₹500\n",
            "\n",
            "1. Deposit\n",
            "2. Withdraw\n",
            "3. Check Balance\n",
            "4. Exit\n",
            "Choose option: 3\n",
            "Balance: ₹1000.00\n",
            "\n",
            "1. Deposit\n",
            "2. Withdraw\n",
            "3. Check Balance\n",
            "4. Exit\n",
            "Choose option: 4\n"
          ]
        }
      ]
    },
    {
      "cell_type": "markdown",
      "source": [
        "4. Cricket Score Tracker\n"
      ],
      "metadata": {
        "id": "mEZDw6h1ziR0"
      }
    },
    {
      "cell_type": "code",
      "source": [
        "def cricket():\n",
        "    players = {}\n",
        "    for i in range(5):\n",
        "        name = input(f\"Enter name of player {i+1}: \")\n",
        "        score = int(input(f\"Enter score for {name}: \"))\n",
        "        players[name] = score\n",
        "\n",
        "    top_player = max(players, key=players.get)\n",
        "    print(f\"Top scorer: {top_player} with {players[top_player]} runs\")\n",
        "\n",
        "    update_name = input(\"Enter player name to update score: \")\n",
        "    if update_name in players:\n",
        "        new_score = int(input(\"Enter new score: \"))\n",
        "        players[update_name] = new_score\n",
        "        print(f\"{update_name}'s score updated to {new_score}\")\n",
        "cricket()"
      ],
      "metadata": {
        "colab": {
          "base_uri": "https://localhost:8080/"
        },
        "id": "ebUUF1b00DCp",
        "outputId": "6a4cfccb-68f5-4797-cb3a-07146c066cca"
      },
      "execution_count": null,
      "outputs": [
        {
          "output_type": "stream",
          "name": "stdout",
          "text": [
            "Enter name of player 1: sachin\n",
            "Enter score for sachin: 200\n",
            "Enter name of player 2: dhoni\n",
            "Enter score for dhoni: 150\n",
            "Enter name of player 3: virat\n",
            "Enter score for virat: 200\n",
            "Enter name of player 4: sewag\n",
            "Enter score for sewag: 100\n",
            "Enter name of player 5: sanju\n",
            "Enter score for sanju: 250\n",
            "Top scorer: sanju with 250 runs\n",
            "Enter player name to update score: sachin\n",
            "Enter new score: 300\n",
            "sachin's score updated to 300\n"
          ]
        }
      ]
    },
    {
      "cell_type": "markdown",
      "source": [
        "5. Restaurant Order System\n"
      ],
      "metadata": {
        "id": "rxc8MnCXziBA"
      }
    },
    {
      "cell_type": "code",
      "source": [
        "def restaurant():\n",
        "    menu = {\"pizza\": 150, \"biriyani\": 140, \"mandhi\": 260, \"noodles\": 100}\n",
        "    order = []\n",
        "    while True:\n",
        "        item = input(\"Enter item to order (or 'done'): \")\n",
        "        if item.lower() == 'done':\n",
        "            break\n",
        "        if item in menu:\n",
        "            order.append(item)\n",
        "        else:\n",
        "            print(\"Item not on menu.\")\n",
        "    bill = sum(menu[item] for item in order)\n",
        "    if \"pizza\" in order:\n",
        "        bill -= 50\n",
        "    print(\"Final bill: ₹\", bill)\n",
        "restaurant()"
      ],
      "metadata": {
        "id": "XyC-6RlC1Fvk",
        "colab": {
          "base_uri": "https://localhost:8080/"
        },
        "outputId": "162bba01-5892-4d95-e9fc-ba85556eb2ee"
      },
      "execution_count": 17,
      "outputs": [
        {
          "output_type": "stream",
          "name": "stdout",
          "text": [
            "Enter item to order (or 'done'): mandhi\n",
            "Enter item to order (or 'done'): pizza\n",
            "Enter item to order (or 'done'): done\n",
            "Final bill: ₹ 360\n"
          ]
        }
      ]
    },
    {
      "cell_type": "markdown",
      "source": [
        "6. Temperature Conversion Tool\n"
      ],
      "metadata": {
        "id": "ek0DPrFtzhyH"
      }
    },
    {
      "cell_type": "code",
      "source": [
        "def temperature():\n",
        "\n",
        "    celsius = float(input(\"Enter temperature in Celsius: \"))\n",
        "\n",
        "    fahrenheit = (celsius * 9/5) + 32\n",
        "\n",
        "    print(f\"{celsius}°C is {fahrenheit:.2f}°F\")\n",
        "\n",
        "temperature()"
      ],
      "metadata": {
        "id": "RxfXFbde1QDd",
        "colab": {
          "base_uri": "https://localhost:8080/"
        },
        "outputId": "264fc5e4-f4ef-4420-f259-43b2c2d8dea2"
      },
      "execution_count": 18,
      "outputs": [
        {
          "output_type": "stream",
          "name": "stdout",
          "text": [
            "Enter temperature in Celsius: 100\n",
            "100.0°C is 212.00°F\n"
          ]
        }
      ]
    },
    {
      "cell_type": "markdown",
      "source": [
        "7. Online Shopping Cart\n"
      ],
      "metadata": {
        "id": "0ukEqOxqzhfa"
      }
    },
    {
      "cell_type": "code",
      "source": [
        "def shopping():\n",
        "    cart = []\n",
        "    while True:\n",
        "        action = input(\"Add / Remove / View / Checkout: \").lower()\n",
        "        if action == \"add\":\n",
        "            item = input(\"Enter item to add: \")\n",
        "            cart.append(item)\n",
        "        elif action == \"remove\":\n",
        "            item = input(\"Enter item to remove: \")\n",
        "            if item in cart:\n",
        "                cart.remove(item)\n",
        "            else:\n",
        "                print(\"Item not in cart.\")\n",
        "        elif action == \"view\":\n",
        "            print(\"Cart:\", cart)\n",
        "        elif action == \"checkout\":\n",
        "            print(\"Final Cart:\", cart)\n",
        "            break\n",
        "        else:\n",
        "            print(\"Invalid action.\")\n",
        "shopping()"
      ],
      "metadata": {
        "id": "UhIZheIC1XkC",
        "colab": {
          "base_uri": "https://localhost:8080/"
        },
        "outputId": "d5381b76-8f04-4a6b-8c1a-3c0f53c5bb7d"
      },
      "execution_count": 14,
      "outputs": [
        {
          "output_type": "stream",
          "name": "stdout",
          "text": [
            "Add / Remove / View / Checkout: ADD\n",
            "Enter item to add: PASTA\n",
            "Add / Remove / View / Checkout: ADD\n",
            "Enter item to add: ROTTI\n",
            "Add / Remove / View / Checkout: VIEW\n",
            "Cart: ['PASTA', 'ROTTI']\n",
            "Add / Remove / View / Checkout: REMOVE\n",
            "Enter item to remove: ROTTI\n",
            "Add / Remove / View / Checkout: VIEW\n",
            "Cart: ['PASTA']\n",
            "Add / Remove / View / Checkout: CHECHKOUT\n",
            "Invalid action.\n",
            "Add / Remove / View / Checkout: checkout\n",
            "Final Cart: ['PASTA']\n"
          ]
        }
      ]
    },
    {
      "cell_type": "markdown",
      "source": [
        "8. Student Attendance Tracker\n"
      ],
      "metadata": {
        "id": "0Lig17tszhOK"
      }
    },
    {
      "cell_type": "code",
      "source": [
        "def attendance():\n",
        "    students = input(\"Enter student names separated by commas: \").split(\",\")\n",
        "    present = 0\n",
        "    absent = 0\n",
        "    for student in students:\n",
        "        status = input(f\"Mark attendance for {student.strip()} (P/A): \").upper()\n",
        "        if status == 'P':\n",
        "            present += 1\n",
        "        else:\n",
        "            absent += 1\n",
        "    print(f\"Present: {present}, Absent: {absent}\")\n",
        "attendance()"
      ],
      "metadata": {
        "id": "YUAXa0sE1erm",
        "colab": {
          "base_uri": "https://localhost:8080/"
        },
        "outputId": "14c9acd0-e007-4812-cdb2-18c4769c1282"
      },
      "execution_count": 21,
      "outputs": [
        {
          "output_type": "stream",
          "name": "stdout",
          "text": [
            "Enter student names separated by commas: MADHAV,ABDU,RIYAN\n",
            "Mark attendance for MADHAV (P/A): P\n",
            "Mark attendance for ABDU (P/A): P\n",
            "Mark attendance for RIYAN (P/A): A\n",
            "Present: 2, Absent: 1\n"
          ]
        }
      ]
    },
    {
      "cell_type": "markdown",
      "source": [
        "9. Cinema Ticket Booking System\n"
      ],
      "metadata": {
        "id": "MZE84UBozguv"
      }
    },
    {
      "cell_type": "code",
      "source": [
        "def cinema():\n",
        "    total_seats = 50\n",
        "    ticket_price = 120\n",
        "\n",
        "    while total_seats > 0:\n",
        "        print(f\"\\nAvailable seats: {total_seats}\")\n",
        "        try:\n",
        "            tickets = int(input(\"How many tickets do you want to book? \"))\n",
        "\n",
        "            if tickets <= 0:\n",
        "                print(\"Please enter a number greater than 0.\")\n",
        "            elif tickets > total_seats:\n",
        "                print(f\"Only {total_seats} seats available. Cannot book {tickets} tickets.\")\n",
        "            else:\n",
        "                cost = tickets * ticket_price\n",
        "                total_seats -= tickets\n",
        "                print(f\"Booking confirmed for {tickets} tickets. Total cost: ₹{cost}\")\n",
        "                print(f\"Remaining seats: {total_seats}\")\n",
        "        except ValueError:\n",
        "            print(\"Invalid input. Please enter a valid number.\")\n",
        "\n",
        "    print(\"\\nAll tickets sold out. Booking closed.\")\n",
        "cinema()"
      ],
      "metadata": {
        "id": "GevVP6rM1kqf",
        "colab": {
          "base_uri": "https://localhost:8080/"
        },
        "outputId": "5edd6bd0-5659-496c-a1ab-8a87f7181b43"
      },
      "execution_count": 22,
      "outputs": [
        {
          "output_type": "stream",
          "name": "stdout",
          "text": [
            "\n",
            "Available seats: 50\n",
            "How many tickets do you want to book? 2\n",
            "Booking confirmed for 2 tickets. Total cost: ₹240\n",
            "Remaining seats: 48\n",
            "\n",
            "Available seats: 48\n",
            "How many tickets do you want to book? 30\n",
            "Booking confirmed for 30 tickets. Total cost: ₹3600\n",
            "Remaining seats: 18\n",
            "\n",
            "Available seats: 18\n",
            "How many tickets do you want to book? 20\n",
            "Only 18 seats available. Cannot book 20 tickets.\n",
            "\n",
            "Available seats: 18\n",
            "How many tickets do you want to book? 30\n",
            "Only 18 seats available. Cannot book 30 tickets.\n",
            "\n",
            "Available seats: 18\n",
            "How many tickets do you want to book? 10\n",
            "Booking confirmed for 10 tickets. Total cost: ₹1200\n",
            "Remaining seats: 8\n",
            "\n",
            "Available seats: 8\n",
            "How many tickets do you want to book? 8\n",
            "Booking confirmed for 8 tickets. Total cost: ₹960\n",
            "Remaining seats: 0\n",
            "\n",
            "All tickets sold out. Booking closed.\n"
          ]
        }
      ]
    },
    {
      "cell_type": "markdown",
      "source": [
        "10. Bank Loan Eligibility Checker\n"
      ],
      "metadata": {
        "id": "UoCdN0iPzgUS"
      }
    },
    {
      "cell_type": "code",
      "source": [
        "def loan():\n",
        "    salary = float(input(\"Enter your monthly salary: ₹\"))\n",
        "    credit_score = int(input(\"Enter your credit score: \"))\n",
        "    age = int(input(\"Enter your age: \"))\n",
        "\n",
        "    if salary >= 25000 and credit_score >= 650 and 21 <= age <= 60:\n",
        "        print(\"You are eligible for a loan.\")\n",
        "    else:\n",
        "        print(\"You are NOT eligible for a loan.\")\n",
        "loan()"
      ],
      "metadata": {
        "id": "9THHXWji1lMY",
        "colab": {
          "base_uri": "https://localhost:8080/"
        },
        "outputId": "a34638cf-cb0f-421f-cbae-533e17e10890"
      },
      "execution_count": 23,
      "outputs": [
        {
          "output_type": "stream",
          "name": "stdout",
          "text": [
            "Enter your monthly salary: ₹25000\n",
            "Enter your credit score: 460\n",
            "Enter your age: 25\n",
            "You are NOT eligible for a loan.\n"
          ]
        }
      ]
    }
  ]
}
{
  "nbformat": 4,
  "nbformat_minor": 0,
  "metadata": {
    "colab": {
      "provenance": [],
      "authorship_tag": "ABX9TyMRZ3kAcFssAtpyI9pOg60T",
      "include_colab_link": true
    },
    "kernelspec": {
      "name": "python3",
      "display_name": "Python 3"
    },
    "language_info": {
      "name": "python"
    }
  },
  "cells": [
    {
      "cell_type": "markdown",
      "metadata": {
        "id": "view-in-github",
        "colab_type": "text"
      },
      "source": [
        "<a href=\"https://colab.research.google.com/github/farhanns481/python-assessment/blob/main/statistics_farhan.ipynb\" target=\"_parent\"><img src=\"https://colab.research.google.com/assets/colab-badge.svg\" alt=\"Open In Colab\"/></a>"
      ]
    },
    {
      "cell_type": "markdown",
      "source": [
        "1. Dataset: Monthly temperatures in a city (in °C): 12, 15, 14, 16, 18, 20, 22, 19,\n",
        "17, 15, 13, 10 Questions:\n",
        "a) Calculate the mean temperature.\n",
        "b) Calculate the median temperature.\n",
        "c) Find the mode of the temperature data.\n",
        "d) Range and Variance"
      ],
      "metadata": {
        "id": "VslEEzB1N71N"
      }
    },
    {
      "cell_type": "code",
      "source": [
        "import numpy as np\n",
        "from statistics import mean, median, mode, variance\n",
        "\n",
        "temps = [12, 15, 14, 16, 18, 20, 22, 19, 17, 15, 13, 10]\n",
        "\n",
        "mean_temp = mean(temps)\n",
        "\n",
        "median_temp = median(temps)\n",
        "\n",
        "mode_temp = mode(temps)\n",
        "\n",
        "range_temp = max(temps) - min(temps)\n",
        "\n",
        "variance_temp = np.var(temps)\n",
        "\n",
        "print(\"Mean Temperature:\", mean_temp)\n",
        "print(\"Median Temperature:\", median_temp)\n",
        "print(\"Mode Temperature:\", mode_temp)\n",
        "print(\"Range:\", range_temp)\n",
        "print(\"Variance:\", variance_temp)\n"
      ],
      "metadata": {
        "colab": {
          "base_uri": "https://localhost:8080/"
        },
        "id": "Dx3vqoQ0i7fH",
        "outputId": "adde91da-957e-4785-923a-e1aef17cb189"
      },
      "execution_count": null,
      "outputs": [
        {
          "output_type": "stream",
          "name": "stdout",
          "text": [
            "Mean Temperature: 15.916666666666666\n",
            "Median Temperature: 15.5\n",
            "Mode Temperature: 15\n",
            "Range: 12\n",
            "Variance: 11.076388888888888\n"
          ]
        }
      ]
    },
    {
      "cell_type": "markdown",
      "source": [
        "2. Dataset: Heights of students (in cm): 150, 160, 165, 170, 155, 160, 162, 168\n",
        "Questions: a) Calculate the range of the heights.\n",
        "b) Calculate the variance of the heights.\n",
        "c) Standard Deviation\n"
      ],
      "metadata": {
        "id": "SfMkvh6anRKt"
      }
    },
    {
      "cell_type": "code",
      "source": [
        "heights = [150, 160, 165, 170, 155, 160, 162, 168]\n",
        "\n",
        "range_heights = max(heights) - min(heights)\n",
        "\n",
        "mean_height = sum(heights) / len(heights)\n",
        "squared_diff = [(x - mean_height) ** 2 for x in heights]\n",
        "variance = sum(squared_diff) / len(heights)\n",
        "\n",
        "std_dev = math.sqrt(variance)\n",
        "\n",
        "print(\"Range:\", range_heights)\n",
        "print(\"Variance:\", variance)\n",
        "print(\"Standard Deviation:\", std_dev)\n"
      ],
      "metadata": {
        "colab": {
          "base_uri": "https://localhost:8080/"
        },
        "id": "rgvEVoNxnS4K",
        "outputId": "6c9e8390-492a-4ebf-b489-8ab108ca58d4"
      },
      "execution_count": null,
      "outputs": [
        {
          "output_type": "stream",
          "name": "stdout",
          "text": [
            "Range: 20\n",
            "Variance: 38.1875\n",
            "Standard Deviation: 6.179603547154137\n"
          ]
        }
      ]
    },
    {
      "cell_type": "markdown",
      "source": [
        "3. Dataset: Weekly expenses (in $): 200, 250, 300, 220, 270, 290, 310\n",
        "Questions: a) Calculate the standard deviation of the weekly expenses.\n"
      ],
      "metadata": {
        "id": "03FMZJkZn7fQ"
      }
    },
    {
      "cell_type": "code",
      "source": [
        "expenses=[ 200, 250, 300, 220, 270, 290, 310]\n",
        "mean = sum(expenses) / len(expenses)\n",
        "variance= sum((x-mean) ** 2 for x in expenses) / len(expenses)\n",
        "\n",
        "if variance >=0:\n",
        "  std = variance ** 0.5\n",
        "else:\n",
        "  std = None\n",
        "print('Standard Deviation: ',std)"
      ],
      "metadata": {
        "colab": {
          "base_uri": "https://localhost:8080/"
        },
        "id": "pwyzsxqvn60R",
        "outputId": "53f49568-94a0-4bb0-945b-441659f9859d"
      },
      "execution_count": null,
      "outputs": [
        {
          "output_type": "stream",
          "name": "stdout",
          "text": [
            "Standard Deviation:  38.438925848782034\n"
          ]
        }
      ]
    },
    {
      "cell_type": "markdown",
      "source": [
        "4. Dataset: Advertising Spending (in $1000s): 10, 20, 15, 25, 30; Sales (in\n",
        "$1000s): 100, 150, 120, 180, 200\n",
        "Questions: a) Calculate the covariance between advertising spending and sales.\n",
        "b) Correlation\n"
      ],
      "metadata": {
        "id": "i7HgXDgbtXId"
      }
    },
    {
      "cell_type": "code",
      "source": [
        "import numpy as np\n",
        "ad = [10, 20, 15, 25, 30]\n",
        "sales = [100, 150, 120, 180, 200]\n",
        "\n",
        "cov_matrix = np.cov(ad, sales, ddof=0)\n",
        "covariance = cov_matrix[0, 1]\n",
        "\n",
        "correlation = np.corrcoef(ad, sales)[0, 1]\n",
        "\n",
        "print(\"Covariance:\", covariance)\n",
        "print(\"Correlation:\", correlation)\n"
      ],
      "metadata": {
        "colab": {
          "base_uri": "https://localhost:8080/"
        },
        "id": "w4mQowyntWRL",
        "outputId": "fd0e1043-93db-4193-9b8e-7ceedb553b97"
      },
      "execution_count": null,
      "outputs": [
        {
          "output_type": "stream",
          "name": "stdout",
          "text": [
            "Covariance: 260.0\n",
            "Correlation: 0.9970544855015815\n"
          ]
        }
      ]
    },
    {
      "cell_type": "markdown",
      "source": [
        "5. Dataset: Study Hours: 2, 4, 6, 8, 10; Exam Scores: 55, 60, 65, 70, 75\n",
        "Questions: a) Calculate the correlation coefficient between study hours and exam\n",
        "scores.\n",
        "b) Interpret the result.\n",
        "c) Quartiles and IQR"
      ],
      "metadata": {
        "id": "G3sPwtaf1WDh"
      }
    },
    {
      "cell_type": "code",
      "source": [
        "import numpy as np\n",
        "\n",
        "hours = [2, 4, 6, 8, 10]\n",
        "scores = [55, 60, 65, 70, 75]\n",
        "\n",
        "corr_matrix = np.corrcoef(hours, scores)\n",
        "corr = corr_matrix[0][1]\n",
        "\n",
        "quartiles = np.percentile(scores, [25, 50, 75])\n",
        "iqr = quartiles[2] - quartiles[0]\n",
        "\n",
        "print(\"Correlation Coefficient:\", corr)\n",
        "print(\"Quartiles:\", quartiles)\n",
        "print(\"IQR:\", iqr)"
      ],
      "metadata": {
        "colab": {
          "base_uri": "https://localhost:8080/"
        },
        "id": "NvnubrDI1X0g",
        "outputId": "a4ff92cf-cba3-4961-e095-c3765bcc6868"
      },
      "execution_count": null,
      "outputs": [
        {
          "output_type": "stream",
          "name": "stdout",
          "text": [
            "Correlation Coefficient: 1.0\n",
            "Quartiles: [60. 65. 70.]\n",
            "IQR: 10.0\n"
          ]
        }
      ]
    },
    {
      "cell_type": "markdown",
      "source": [
        "6. Dataset: Monthly savings (in $): 200, 300, 400, 500, 600, 700, 800, 900, 1000,\n",
        "1100 Questions: a) Calculate the first quartile (Q1) and third quartile (Q3).\n",
        "b) Calculate the interquartile range (IQR).\n",
        "c) Detecting Outliers\n"
      ],
      "metadata": {
        "id": "5_kCyfmz1Zva"
      }
    },
    {
      "cell_type": "code",
      "source": [
        "import numpy as np\n",
        "\n",
        "savings = [200,300,400,500,600,700,800,900,1000,1100]\n",
        "q1 = np.percentile(savings,25)\n",
        "q3 = np.percentile(savings,75)\n",
        "\n",
        "iqr = q3-q1\n",
        "lower = q1-1.5*iqr\n",
        "upper = q3+1.5*iqr\n",
        "\n",
        "outliers = [x for x in savings if x<lower or x>upper]\n",
        "print(\"Q1:\",q1,\"Q3:\",q3,\"IQR:\",iqr,\"Outliers:\",outliers)"
      ],
      "metadata": {
        "colab": {
          "base_uri": "https://localhost:8080/"
        },
        "id": "leyH9xXk1fwK",
        "outputId": "f500e2f0-ad9e-4dc1-982a-4b2d0061d17d"
      },
      "execution_count": null,
      "outputs": [
        {
          "output_type": "stream",
          "name": "stdout",
          "text": [
            "Q1: 425.0 Q3: 875.0 IQR: 450.0 Outliers: []\n"
          ]
        }
      ]
    },
    {
      "cell_type": "markdown",
      "source": [
        "7. Dataset: Ages of employees: 22, 25, 28, 30, 35, 40, 45, 50, 55, 100\n",
        "Questions: a) Identify any outliers using the IQR method.\n"
      ],
      "metadata": {
        "id": "HtvHWwQ91gdc"
      }
    },
    {
      "cell_type": "code",
      "source": [
        "import numpy as np\n",
        "\n",
        "def find_outliers_iqr(data):\n",
        "    data = np.array(data)\n",
        "\n",
        "    Q1 = np.percentile(data, 25)\n",
        "    Q3 = np.percentile(data, 75)\n",
        "    IQR = Q3 - Q1\n",
        "\n",
        "    lower_bound = Q1 - 1.5 * IQR\n",
        "    upper_bound = Q3 + 1.5 * IQR\n",
        "\n",
        "    outliers = data[(data < lower_bound) | (data > upper_bound)]\n",
        "\n",
        "    return outliers, lower_bound, upper_bound\n",
        "\n",
        "ages = [22, 25, 28, 30, 35, 40, 45, 50, 55, 100]\n",
        "\n",
        "outliers, lb, ub = find_outliers_iqr(ages)\n",
        "\n",
        "print(\"Lower Bound:\", lb)\n",
        "print(\"Upper Bound:\", ub)\n",
        "print(\"Outliers:\", outliers)\n"
      ],
      "metadata": {
        "colab": {
          "base_uri": "https://localhost:8080/"
        },
        "id": "LgQD4w0P1pMw",
        "outputId": "1933e8c1-2463-4c37-bd25-9f0e28175954"
      },
      "execution_count": null,
      "outputs": [
        {
          "output_type": "stream",
          "name": "stdout",
          "text": [
            "Lower Bound: -1.875\n",
            "Upper Bound: 79.125\n",
            "Outliers: [100]\n"
          ]
        }
      ]
    },
    {
      "cell_type": "markdown",
      "source": [
        "8. Dataset: Observed frequencies of customer preferences for three products:\n",
        "Product A: 50, 55, 60\n",
        "Product B: 30, 25, 35\n",
        "Product C: 20, 20, 25\n",
        "Questions: a) Perform a chi-square test to determine if there is a significant\n",
        "difference in customer preferences among the three products. b) Hypothesis\n",
        "Testing"
      ],
      "metadata": {
        "id": "zZpsDRyb1fIa"
      }
    },
    {
      "cell_type": "code",
      "source": [
        "import numpy as np\n",
        "from scipy.stats import chi2_contingency\n",
        "\n",
        "def chi_square_test(data):\n",
        "\n",
        "    chi2, p, dof, expected = chi2_contingency(data)\n",
        "\n",
        "    return chi2, p, dof, expected\n",
        "\n",
        "data = [\n",
        "    [50, 55, 60],\n",
        "    [30, 25, 35],\n",
        "    [20, 20, 25]\n",
        "]\n",
        "\n",
        "chi2, p, dof, expected = chi_square_test(data)\n",
        "\n",
        "print(\"Chi-square Statistic:\", chi2)\n",
        "print(\"Degrees of Freedom:\", dof)\n",
        "print(\"p-value:\", p)\n",
        "print(\"Expected Frequencies:\\n\", expected)\n",
        "\n",
        "alpha = 0.05\n",
        "if p < alpha:\n",
        "    print(\"Reject Null Hypothesis: Significant difference in preferences.\")\n",
        "else:\n",
        "    print(\"Fail to Reject Null Hypothesis: No significant difference in preferences.\")\n"
      ],
      "metadata": {
        "colab": {
          "base_uri": "https://localhost:8080/"
        },
        "id": "xAVnJQO11nEf",
        "outputId": "c473f16d-d6a7-4152-b5d2-7e46bdac83b3"
      },
      "execution_count": null,
      "outputs": [
        {
          "output_type": "stream",
          "name": "stdout",
          "text": [
            "Chi-square Statistic: 0.8774928774928774\n",
            "Degrees of Freedom: 4\n",
            "p-value: 0.9277673918614506\n",
            "Expected Frequencies:\n",
            " [[51.5625 51.5625 61.875 ]\n",
            " [28.125  28.125  33.75  ]\n",
            " [20.3125 20.3125 24.375 ]]\n",
            "Fail to Reject Null Hypothesis: No significant difference in preferences.\n"
          ]
        }
      ]
    },
    {
      "cell_type": "markdown",
      "source": [
        "9. Dataset: Sample weights (in kg) of a new diet program: 70, 68, 72, 71, 69, 73,\n",
        "72, 74, 70, 71 Questions: a) Test the hypothesis that the mean weight after the\n",
        "diet program is equal to 70 kg at a 5% significance level. b) Z-Scores"
      ],
      "metadata": {
        "id": "71PZueOBESDA"
      }
    },
    {
      "cell_type": "code",
      "source": [
        "import numpy as np\n",
        "from scipy.stats import ttest_1samp, zscore\n",
        "\n",
        "def one_sample_ttest(data, mu0):\n",
        "    t_stat, p_value = ttest_1samp(data, mu0)\n",
        "    return t_stat, p_value\n",
        "\n",
        "def calculate_zscores(data):\n",
        "    return zscore(data)\n",
        "\n",
        "weights = [70, 68, 72, 71, 69, 73, 72, 74, 70, 71]\n",
        "\n",
        "t_stat, p_value = one_sample_ttest(weights, 70)\n",
        "\n",
        "print(\"T-statistic:\", t_stat)\n",
        "print(\"p-value:\", p_value)\n",
        "\n",
        "alpha = 0.05\n",
        "if p_value < alpha:\n",
        "    print(\"Reject Null Hypothesis: Mean is significantly different from 70.\")\n",
        "else:\n",
        "    print(\"Fail to Reject Null Hypothesis: Mean is not significantly different from 70.\")\n",
        "\n",
        "zscores = calculate_zscores(weights)\n",
        "print(\"Z-scores:\", zscores)"
      ],
      "metadata": {
        "colab": {
          "base_uri": "https://localhost:8080/"
        },
        "id": "NN_4AW8VET1K",
        "outputId": "16c6cc64-e872-4ea1-926e-7a2d2adeefef"
      },
      "execution_count": 14,
      "outputs": [
        {
          "output_type": "stream",
          "name": "stdout",
          "text": [
            "T-statistic: 1.732050807568877\n",
            "p-value: 0.11730680301423822\n",
            "Fail to Reject Null Hypothesis: Mean is not significantly different from 70.\n",
            "Z-scores: [-0.57735027 -1.73205081  0.57735027  0.         -1.15470054  1.15470054\n",
            "  0.57735027  1.73205081 -0.57735027  0.        ]\n"
          ]
        }
      ]
    },
    {
      "cell_type": "markdown",
      "source": [
        "10. Dataset: Annual salaries of employees (in $1000s): 40, 42, 45, 47, 50, 52, 55,\n",
        "57, 60, 62 Questions: a) Calculate the z-scores for each salary.\n",
        "b) Interpret the z-scores.\n",
        "c) Normal Distribution\n"
      ],
      "metadata": {
        "id": "WV25d41qN-yP"
      }
    },
    {
      "cell_type": "code",
      "source": [
        "import numpy as np\n",
        "\n",
        "salaries = np.array([40, 42, 45, 47, 50, 52, 55, 57, 60, 62])\n",
        "\n",
        "mean = np.mean(salaries)\n",
        "std_dev = np.std(salaries)\n",
        "\n",
        "print(f\"Mean : {mean:.2f}\")\n",
        "print(f\"Standard Deviation : {std_dev:.2f}\\n\")\n",
        "\n",
        "z_scores = (salaries - mean) / std_dev\n",
        "\n",
        "print(\"Z-scores for each salary:\")\n",
        "for sal, z in zip(salaries, z_scores):\n",
        "    print(f\"Salary {sal}k -> Z = {z:.2f}\")\n",
        "\n",
        "print(\"\\nInterpretation:\")\n",
        "for sal, z in zip(salaries, z_scores):\n",
        "    if z < 0:\n",
        "        print(f\"{sal}k is {abs(z):.2f} standard deviations BELOW the mean.\")\n",
        "    elif z > 0:\n",
        "        print(f\"{sal}k is {z:.2f} standard deviations ABOVE the mean.\")\n",
        "    else:\n",
        "        print(f\"{sal}k is exactly at the mean.\")\n"
      ],
      "metadata": {
        "id": "JDGjt67hOA9r",
        "colab": {
          "base_uri": "https://localhost:8080/"
        },
        "outputId": "1587af21-7416-42fb-b6ad-24866fa5fa54"
      },
      "execution_count": 12,
      "outputs": [
        {
          "output_type": "stream",
          "name": "stdout",
          "text": [
            "Mean : 51.00\n",
            "Standard Deviation : 7.14\n",
            "\n",
            "Z-scores for each salary:\n",
            "Salary 40k -> Z = -1.54\n",
            "Salary 42k -> Z = -1.26\n",
            "Salary 45k -> Z = -0.84\n",
            "Salary 47k -> Z = -0.56\n",
            "Salary 50k -> Z = -0.14\n",
            "Salary 52k -> Z = 0.14\n",
            "Salary 55k -> Z = 0.56\n",
            "Salary 57k -> Z = 0.84\n",
            "Salary 60k -> Z = 1.26\n",
            "Salary 62k -> Z = 1.54\n",
            "\n",
            "Interpretation:\n",
            "40k is 1.54 standard deviations BELOW the mean.\n",
            "42k is 1.26 standard deviations BELOW the mean.\n",
            "45k is 0.84 standard deviations BELOW the mean.\n",
            "47k is 0.56 standard deviations BELOW the mean.\n",
            "50k is 0.14 standard deviations BELOW the mean.\n",
            "52k is 0.14 standard deviations ABOVE the mean.\n",
            "55k is 0.56 standard deviations ABOVE the mean.\n",
            "57k is 0.84 standard deviations ABOVE the mean.\n",
            "60k is 1.26 standard deviations ABOVE the mean.\n",
            "62k is 1.54 standard deviations ABOVE the mean.\n"
          ]
        }
      ]
    }
  ]
}
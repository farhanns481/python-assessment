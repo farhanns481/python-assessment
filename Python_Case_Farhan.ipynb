{
  "nbformat": 4,
  "nbformat_minor": 0,
  "metadata": {
    "colab": {
      "provenance": [],
      "include_colab_link": true
    },
    "kernelspec": {
      "name": "python3",
      "display_name": "Python 3"
    },
    "language_info": {
      "name": "python"
    }
  },
  "cells": [
    {
      "cell_type": "markdown",
      "metadata": {
        "id": "view-in-github",
        "colab_type": "text"
      },
      "source": [
        "<a href=\"https://colab.research.google.com/github/farhanns481/python-assessment/blob/main/Python_Case_Farhan.ipynb\" target=\"_parent\"><img src=\"https://colab.research.google.com/assets/colab-badge.svg\" alt=\"Open In Colab\"/></a>"
      ]
    },
    {
      "cell_type": "markdown",
      "source": [
        "# Answer the following questions using only builtin Python datatypes and functions. Do not use Numpy or Scipy (i.e. No library imports allowed)"
      ],
      "metadata": {
        "id": "zVV_KMSIUG-A"
      }
    },
    {
      "cell_type": "markdown",
      "source": [
        "# Q1. Write a function that return the range (maximum and minimun) of a given list of numbers"
      ],
      "metadata": {
        "id": "uZnK7VgWV5SI"
      }
    },
    {
      "cell_type": "code",
      "source": [
        "data = [5,8,2,7,3,8,10]\n",
        "def min_max(data):\n",
        "\n",
        "  min_data=data[0]\n",
        "  max_data=data[0]\n",
        "\n",
        "  for i in data:\n",
        "    if i<min_data:\n",
        "      min_data=i\n",
        "    if i>max_data:\n",
        "      max_data=i\n",
        "\n",
        "  print(min_data)\n",
        "  print(max_data)\n",
        "min_max(data)"
      ],
      "metadata": {
        "id": "vuAbJQcOWAM7",
        "colab": {
          "base_uri": "https://localhost:8080/"
        },
        "outputId": "2b0e3e67-ce33-48b5-86a5-2db7bd1147de"
      },
      "execution_count": null,
      "outputs": [
        {
          "output_type": "stream",
          "name": "stdout",
          "text": [
            "2\n",
            "10\n"
          ]
        }
      ]
    },
    {
      "cell_type": "markdown",
      "source": [
        "## Q2. Write function that returns mean value of a list of numbers"
      ],
      "metadata": {
        "id": "Y5_v5a8_U1O-"
      }
    },
    {
      "cell_type": "code",
      "source": [
        "list = [5,8,2,7,3,8,10]\n",
        "mean = sum(list)/len(list)\n",
        "print(mean)"
      ],
      "metadata": {
        "id": "RajjEyacU7Sc",
        "colab": {
          "base_uri": "https://localhost:8080/"
        },
        "outputId": "89dc830e-8e49-4c8b-eaec-4e850f099a36"
      },
      "execution_count": null,
      "outputs": [
        {
          "output_type": "stream",
          "name": "stdout",
          "text": [
            "6.142857142857143\n"
          ]
        }
      ]
    },
    {
      "cell_type": "markdown",
      "source": [
        "# Q3. Write a function that returns the median value of a list of numbers"
      ],
      "metadata": {
        "id": "OpeRxoEoVTIP"
      }
    },
    {
      "cell_type": "code",
      "source": [
        "data = [5,8,2,7,3,8,10]\n",
        "sort_data = sorted(data)\n",
        "print(sort_data)\n",
        "n = len(sort_data)\n",
        "if n % 2 == 1 :\n",
        "   median = sort_data[n//2]\n",
        "else :\n",
        " median = (sort_data[n//2 - 1] + sort_data[n//2])/2\n",
        "print (median)"
      ],
      "metadata": {
        "id": "u1CUy0UOVaQi",
        "colab": {
          "base_uri": "https://localhost:8080/"
        },
        "outputId": "9b50ea41-aca0-46e7-8cba-5dad715797e4"
      },
      "execution_count": null,
      "outputs": [
        {
          "output_type": "stream",
          "name": "stdout",
          "text": [
            "[2, 3, 5, 7, 8, 8, 10]\n",
            "7\n"
          ]
        }
      ]
    },
    {
      "cell_type": "markdown",
      "source": [
        "## Q4. Write a function to return the mod of a list of numbers, if no mod exists, it should return None. If more than one mod exist, return the mod values as list"
      ],
      "metadata": {
        "id": "2EMOG7AZSqVn"
      }
    },
    {
      "cell_type": "code",
      "execution_count": null,
      "metadata": {
        "id": "qnMm2dhhSk3-",
        "colab": {
          "base_uri": "https://localhost:8080/"
        },
        "outputId": "e6699e0f-6ca1-4d1e-8727-3b441e4b1351"
      },
      "outputs": [
        {
          "output_type": "execute_result",
          "data": {
            "text/plain": [
              "[5]"
            ]
          },
          "metadata": {},
          "execution_count": 19
        }
      ],
      "source": [
        "def mode_function(data):\n",
        "  freq={}\n",
        "\n",
        "  for num in data :\n",
        "    if num in freq :\n",
        "      freq[num] += 1\n",
        "    else:\n",
        "      freq[num] = 1\n",
        "  mode_list = []\n",
        "  max_freq = 1\n",
        "\n",
        "  for num,value in freq.items() :\n",
        "    if value>max_freq :\n",
        "      max_freq = value\n",
        "      mode_list = [num]\n",
        "    elif value == max_freq :\n",
        "      mode_list.append(num)\n",
        "  if max_freq == 1 :\n",
        "    print(\"none\")\n",
        "  elif len(mode_list) == 1 :\n",
        "    return mode_list\n",
        "  elif len(mode_list)>1 :\n",
        "    return mode_list\n",
        "\n",
        "data=[4,5,6,5,5,7,8,8]\n",
        "mode_function(data)\n",
        "\n"
      ]
    },
    {
      "cell_type": "markdown",
      "source": [
        "## Q5. Write function to compute a given percentile value (e.g. 90th percentile) of a list of numbers"
      ],
      "metadata": {
        "id": "LcqWwqtgTCiL"
      }
    },
    {
      "cell_type": "code",
      "source": [
        "def percentile(data,percent):\n",
        "\n",
        "  data.sort()\n",
        "  length = len(data)\n",
        "  index = length*percent\n",
        "  int_index = int(index)\n",
        "  per = data[int_index]\n",
        "  print(per)\n",
        "\n",
        "data = [10,15,23,33,45,65,78,110,122]\n",
        "percentile(data,0.9)"
      ],
      "metadata": {
        "id": "Sn307h0TTb2b",
        "colab": {
          "base_uri": "https://localhost:8080/"
        },
        "outputId": "eaed6c2f-22d0-4a0d-ef3c-e9dea761f7b1"
      },
      "execution_count": null,
      "outputs": [
        {
          "output_type": "stream",
          "name": "stdout",
          "text": [
            "122\n"
          ]
        }
      ]
    },
    {
      "cell_type": "markdown",
      "source": [
        "# Q6. Write a function that returns the lower bound of a list of numbers"
      ],
      "metadata": {
        "id": "N-TYHkDcWOfS"
      }
    },
    {
      "cell_type": "code",
      "source": [
        "n = [2,3,5,6,18,11]\n",
        "lower_bound = n[0]\n",
        "\n",
        "for num in n :\n",
        "    if num < lower_bound :\n",
        "        lower_bound = num\n",
        "\n",
        "print(\"Lower bound is :\",lower_bound)"
      ],
      "metadata": {
        "id": "Y-RKPdKuW5nx",
        "colab": {
          "base_uri": "https://localhost:8080/"
        },
        "outputId": "f418ea35-d339-4ab3-d66b-75260b684b02"
      },
      "execution_count": null,
      "outputs": [
        {
          "output_type": "stream",
          "name": "stdout",
          "text": [
            "Lower bound is : 2\n"
          ]
        }
      ]
    },
    {
      "cell_type": "markdown",
      "source": [
        "## Q7. Write function to return any outliers from a given list of numbers, if no outliers present it should return None"
      ],
      "metadata": {
        "id": "5aHfaI_jThpX"
      }
    },
    {
      "cell_type": "code",
      "source": [
        "def outlier(data):\n",
        "  data.sort()\n",
        "  length=len(data)\n",
        "\n",
        "  q1_index=length*.25\n",
        "  q3_index=length*.75\n",
        "\n",
        "  int_q1=int(q1_index)\n",
        "  int_q3=int(q3_index)\n",
        "\n",
        "  Q1=data[int_q1]\n",
        "  Q3=data[int_q3]\n",
        "\n",
        "  IQR=Q3-Q1\n",
        "\n",
        "\n",
        "  Lower_whisker=Q1-(IQR*1.5)\n",
        "\n",
        "  Upper_whisker=Q3+(IQR*1.5)\n",
        "\n",
        "  outlier=[]\n",
        "  for i in data :\n",
        "     if i< Lower_whisker or i> Upper_whisker:\n",
        "       outlier.append(i)\n",
        "\n",
        "  if len(outlier)>0:\n",
        "      return outlier\n",
        "  else:\n",
        "      return None\n",
        "\n",
        "data8=[22,33,44,55,66,77,88,99,111,222]\n",
        "print(outlier(data8))"
      ],
      "metadata": {
        "id": "gG6-qzT7T0Si",
        "colab": {
          "base_uri": "https://localhost:8080/"
        },
        "outputId": "119dfd9b-bcda-4104-b0f3-37815be29b59"
      },
      "execution_count": 2,
      "outputs": [
        {
          "output_type": "stream",
          "name": "stdout",
          "text": [
            "[222]\n"
          ]
        }
      ]
    },
    {
      "cell_type": "markdown",
      "source": [
        "##Q8. Write a function to return standard deviation of a list of numbers"
      ],
      "metadata": {
        "id": "jI9t-tcDT5EK"
      }
    },
    {
      "cell_type": "code",
      "source": [
        "def standard_deviation(data):\n",
        " mean=sum(data)/len(data)\n",
        "\n",
        " sum_of_sqaured_difference = 0\n",
        " for i in data:\n",
        "  sum_of_sqaured_difference+=((i-mean)**2)\n",
        "\n",
        " variance=sum_of_sqaured_difference/len(data)\n",
        " standard_dev=variance**.5\n",
        "\n",
        " return standard_dev\n",
        "\n",
        "\n",
        "data9=[11,22,33,44,55,88,99,111,333,444]\n",
        "print(standard_deviation(data9))"
      ],
      "metadata": {
        "id": "MMU_cMlLUFxJ",
        "colab": {
          "base_uri": "https://localhost:8080/"
        },
        "outputId": "56c81bc4-c8cf-45bb-91cf-5e951f7a14dc"
      },
      "execution_count": 3,
      "outputs": [
        {
          "output_type": "stream",
          "name": "stdout",
          "text": [
            "138.12530542952655\n"
          ]
        }
      ]
    },
    {
      "cell_type": "markdown",
      "source": [
        "## Q9. Write function to compute and return Z-score values of a list of numbers"
      ],
      "metadata": {
        "id": "LufmQDJPURkM"
      }
    },
    {
      "cell_type": "code",
      "source": [
        "def Z_score(data):\n",
        " mean=sum(data)/len(data)\n",
        "\n",
        " sum_of_difference = 0\n",
        " for i in data:\n",
        "  sum_of_difference+=((i-mean))\n",
        "\n",
        " variance=sum_of_difference/len(data)\n",
        " standard_dev=variance**.5\n",
        "\n",
        " z_score=[]\n",
        " for x in data:\n",
        "    z=(x-mean)/standard_dev\n",
        "    z_score.append(z)\n",
        " return z_score\n",
        "\n",
        "data10=[22,33,44,55,77,88,111,222,333]\n",
        "Z_score(data10)"
      ],
      "metadata": {
        "id": "ml2qpSpFUYxV",
        "colab": {
          "base_uri": "https://localhost:8080/"
        },
        "outputId": "f17448bf-5ced-4547-88b5-deff7fb227ff"
      },
      "execution_count": 5,
      "outputs": [
        {
          "output_type": "execute_result",
          "data": {
            "text/plain": [
              "[(-6.737429570022483e-08+1100305749.3333335j),\n",
              " (-5.889900310261078e-08+961893717.3333334j),\n",
              " (-5.042371050499673e-08+823481685.3333334j),\n",
              " (-4.194841790738268e-08+685069653.3333334j),\n",
              " (-2.4997832712154577e-08+408245589.3333333j),\n",
              " (-1.6522540114540524e-08+269833557.3333333j),\n",
              " (1.1985262259252208e-09-19573418.666666687j),\n",
              " (8.672193334730337e-08-1416276650.6666667j),\n",
              " (1.7224534046868152e-07-2812979882.6666665j)]"
            ]
          },
          "metadata": {},
          "execution_count": 5
        }
      ]
    },
    {
      "cell_type": "markdown",
      "source": [
        "## Q10. Write a function to compute and return the Pearson correlation coefficient value of two list of numbers"
      ],
      "metadata": {
        "id": "YQSNHIfxUb6s"
      }
    },
    {
      "cell_type": "code",
      "source": [
        "def calculate_mean(data):\n",
        "     return sum(data) / len(data)\n",
        "\n",
        "def calculate_standard_deviation(data):\n",
        "    mean = calculate_mean(data)\n",
        "    sum_of_squared_differences = sum([(x - mean) ** 2 for x in data])\n",
        "    variance = sum_of_squared_differences / (len(data) - 1)\n",
        "    return (variance)**.5\n",
        "\n",
        "def pearson_correlation(list_x, list_y):\n",
        "\n",
        "    mean_x = calculate_mean(list_x)\n",
        "    mean_y = calculate_mean(list_y)\n",
        "\n",
        "    std_dev_x = calculate_standard_deviation(list_x)\n",
        "    std_dev_y = calculate_standard_deviation(list_y)\n",
        "\n",
        "\n",
        "    numerator = sum([(x - mean_x) * (y - mean_y) for x, y in zip(list_x, list_y)])\n",
        "\n",
        "\n",
        "    denominator = (len(list_x) - 1) * std_dev_x * std_dev_y\n",
        "    correlation = numerator / denominator\n",
        "    return correlation\n",
        "\n",
        "\n",
        "x1 = [1, 2, 3, 4, 5]\n",
        "y1 = [2, 4, 5, 4, 6]\n",
        "corr1 = pearson_correlation(x1, y1)\n",
        "print(f\"Lists X: {x1}\")\n",
        "print(f\"Lists Y: {y1}\")\n",
        "print(f\"Correlation: {corr1:.2f}\")"
      ],
      "metadata": {
        "id": "1YGqr3T6Uk6H",
        "colab": {
          "base_uri": "https://localhost:8080/"
        },
        "outputId": "012569e8-e77f-4cf1-f8ea-2564b74495ff"
      },
      "execution_count": 7,
      "outputs": [
        {
          "output_type": "stream",
          "name": "stdout",
          "text": [
            "Lists X: [1, 2, 3, 4, 5]\n",
            "Lists Y: [2, 4, 5, 4, 6]\n",
            "Correlation: 0.85\n"
          ]
        }
      ]
    }
  ]
}